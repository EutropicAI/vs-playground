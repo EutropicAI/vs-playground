{
 "cells": [
  {
   "cell_type": "code",
   "execution_count": 2,
   "id": "17dfeb4b-effc-4df2-a91b-65f06c28ed92",
   "metadata": {},
   "outputs": [],
   "source": [
    "%load_ext yuuno"
   ]
  },
  {
   "cell_type": "code",
   "id": "62c39acf-e5d6-425c-862c-168e00a83eb4",
   "metadata": {
    "scrolled": true
   },
   "source": [
    "%%vspreview\n",
    "import vapoursynth as vs\n",
    "from vapoursynth import core\n",
    "\n",
    "clip = core.bs.VideoSource(source=\"s.mkv\")\n",
    "clip = core.resize.Bicubic(clip=clip, format=vs.RGBH)\n",
    "clip = core.resize.Bicubic(clip=clip, matrix_s=\"709\", format=vs.YUV420P16)\n",
    "clip.set_output()"
   ],
   "outputs": [],
   "execution_count": null
  },
  {
   "cell_type": "code",
   "id": "4f49f10b-5c4f-43ea-8939-ff82a7aaab0e",
   "metadata": {},
   "source": [
    "%%vspipe --y4m | ffmpeg -i - -vcodec libx265 -crf 16 encoded.mkv\n",
    "import vapoursynth as vs\n",
    "from vapoursynth import core\n",
    "\n",
    "clip = core.bs.VideoSource(source=\"s.mkv\")\n",
    "clip = core.resize.Bicubic(clip=clip, format=vs.RGBH)\n",
    "clip = core.resize.Bicubic(clip=clip, matrix_s=\"709\", format=vs.YUV420P16)\n",
    "clip.set_output()"
   ],
   "outputs": [],
   "execution_count": null
  }
 ],
 "metadata": {
  "kernelspec": {
   "display_name": "Python 3 (ipykernel)",
   "language": "python",
   "name": "python3"
  },
  "language_info": {
   "codemirror_mode": {
    "name": "ipython",
    "version": 3
   },
   "file_extension": ".py",
   "mimetype": "text/x-python",
   "name": "python",
   "nbconvert_exporter": "python",
   "pygments_lexer": "ipython3",
   "version": "3.10.14"
  }
 },
 "nbformat": 4,
 "nbformat_minor": 5
}
